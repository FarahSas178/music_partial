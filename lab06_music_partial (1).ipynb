{
 "cells": [
  {
   "cell_type": "markdown",
   "metadata": {},
   "source": [
    "# Lab 6:  Neural Networks for Music Classification\n",
    "\n",
    "In addition to the concepts in the [MNIST neural network demo](./mnist_neural.ipynb), in this lab, you will learn to:\n",
    "* Load a file from a URL\n",
    "* Extract simple features from audio samples for machine learning tasks such as speech recognition and classification\n",
    "* Build a simple neural network for music classification using these features\n",
    "* Use a callback to store the loss and accuracy history in the training process\n",
    "* Optimize the learning rate of the neural network\n",
    "\n",
    "To illustrate the basic concepts, we will look at a relatively simple music classification problem.  Given a sample of music, we want to determine which instrument (e.g. trumpet, violin, piano) is playing.  This dataset was generously supplied by [Prof. Juan Bello](http://steinhardt.nyu.edu/faculty/Juan_Pablo_Bello) at NYU Stenihardt  and his former PhD student Eric Humphrey (now at Spotify).  They have a complete website dedicated to deep learning methods in music informatics:\n",
    "\n",
    "http://marl.smusic.nyu.edu/wordpress/projects/feature-learning-deep-architectures/deep-learning-python-tutorial/\n",
    "\n",
    "You can also check out Juan's <a href=\"http://www.nyu.edu/classes/bello/ACA.html\">course</a>.\n",
    "\n"
   ]
  },
  {
   "cell_type": "markdown",
   "metadata": {},
   "source": [
    "## Loading the Keras package\n",
    "We begin by loading keras and the other packages"
   ]
  },
  {
   "cell_type": "code",
   "execution_count": 1,
   "metadata": {},
   "outputs": [
    {
     "name": "stdout",
     "output_type": "stream",
     "text": [
      "Requirement already satisfied: keras in c:\\users\\lab 2\\anaconda3\\lib\\site-packages (2.7.0)\n",
      "Note: you may need to restart the kernel to use updated packages.\n"
     ]
    }
   ],
   "source": [
    "pip install keras"
   ]
  },
  {
   "cell_type": "code",
   "execution_count": 2,
   "metadata": {},
   "outputs": [
    {
     "name": "stdout",
     "output_type": "stream",
     "text": [
      "Requirement already satisfied: tensorflow in c:\\users\\lab 2\\anaconda3\\lib\\site-packages (2.7.0)\n",
      "Requirement already satisfied: six>=1.12.0 in c:\\users\\lab 2\\anaconda3\\lib\\site-packages (from tensorflow) (1.16.0)\n",
      "Requirement already satisfied: wrapt>=1.11.0 in c:\\users\\lab 2\\anaconda3\\lib\\site-packages (from tensorflow) (1.12.1)\n",
      "Requirement already satisfied: typing-extensions>=3.6.6 in c:\\users\\lab 2\\anaconda3\\lib\\site-packages (from tensorflow) (3.10.0.2)\n",
      "Requirement already satisfied: tensorflow-estimator<2.8,~=2.7.0rc0 in c:\\users\\lab 2\\anaconda3\\lib\\site-packages (from tensorflow) (2.7.0)\n",
      "Requirement already satisfied: grpcio<2.0,>=1.24.3 in c:\\users\\lab 2\\anaconda3\\lib\\site-packages (from tensorflow) (1.43.0)\n",
      "Requirement already satisfied: astunparse>=1.6.0 in c:\\users\\lab 2\\anaconda3\\lib\\site-packages (from tensorflow) (1.6.3)\n",
      "Requirement already satisfied: numpy>=1.14.5 in c:\\users\\lab 2\\anaconda3\\lib\\site-packages (from tensorflow) (1.20.3)\n",
      "Requirement already satisfied: keras<2.8,>=2.7.0rc0 in c:\\users\\lab 2\\anaconda3\\lib\\site-packages (from tensorflow) (2.7.0)\n",
      "Requirement already satisfied: gast<0.5.0,>=0.2.1 in c:\\users\\lab 2\\anaconda3\\lib\\site-packages (from tensorflow) (0.4.0)\n",
      "Requirement already satisfied: opt-einsum>=2.3.2 in c:\\users\\lab 2\\anaconda3\\lib\\site-packages (from tensorflow) (3.3.0)\n",
      "Requirement already satisfied: h5py>=2.9.0 in c:\\users\\lab 2\\anaconda3\\lib\\site-packages (from tensorflow) (3.2.1)\n",
      "Requirement already satisfied: tensorboard~=2.6 in c:\\users\\lab 2\\anaconda3\\lib\\site-packages (from tensorflow) (2.7.0)\n",
      "Requirement already satisfied: tensorflow-io-gcs-filesystem>=0.21.0 in c:\\users\\lab 2\\anaconda3\\lib\\site-packages (from tensorflow) (0.23.1)\n",
      "Requirement already satisfied: termcolor>=1.1.0 in c:\\users\\lab 2\\anaconda3\\lib\\site-packages (from tensorflow) (1.1.0)\n",
      "Requirement already satisfied: google-pasta>=0.1.1 in c:\\users\\lab 2\\anaconda3\\lib\\site-packages (from tensorflow) (0.2.0)\n",
      "Requirement already satisfied: flatbuffers<3.0,>=1.12 in c:\\users\\lab 2\\anaconda3\\lib\\site-packages (from tensorflow) (2.0)\n",
      "Requirement already satisfied: libclang>=9.0.1 in c:\\users\\lab 2\\anaconda3\\lib\\site-packages (from tensorflow) (12.0.0)\n",
      "Requirement already satisfied: absl-py>=0.4.0 in c:\\users\\lab 2\\anaconda3\\lib\\site-packages (from tensorflow) (1.0.0)\n",
      "Requirement already satisfied: wheel<1.0,>=0.32.0 in c:\\users\\lab 2\\anaconda3\\lib\\site-packages (from tensorflow) (0.37.0)\n",
      "Requirement already satisfied: keras-preprocessing>=1.1.1 in c:\\users\\lab 2\\anaconda3\\lib\\site-packages (from tensorflow) (1.1.2)\n",
      "Requirement already satisfied: protobuf>=3.9.2 in c:\\users\\lab 2\\anaconda3\\lib\\site-packages (from tensorflow) (3.19.3)\n",
      "Requirement already satisfied: google-auth-oauthlib<0.5,>=0.4.1 in c:\\users\\lab 2\\anaconda3\\lib\\site-packages (from tensorboard~=2.6->tensorflow) (0.4.6)\n",
      "Requirement already satisfied: markdown>=2.6.8 in c:\\users\\lab 2\\anaconda3\\lib\\site-packages (from tensorboard~=2.6->tensorflow) (3.3.6)\n",
      "Requirement already satisfied: werkzeug>=0.11.15 in c:\\users\\lab 2\\anaconda3\\lib\\site-packages (from tensorboard~=2.6->tensorflow) (2.0.2)\n",
      "Requirement already satisfied: tensorboard-plugin-wit>=1.6.0 in c:\\users\\lab 2\\anaconda3\\lib\\site-packages (from tensorboard~=2.6->tensorflow) (1.8.1)\n",
      "Requirement already satisfied: setuptools>=41.0.0 in c:\\users\\lab 2\\anaconda3\\lib\\site-packages (from tensorboard~=2.6->tensorflow) (58.0.4)\n",
      "Requirement already satisfied: tensorboard-data-server<0.7.0,>=0.6.0 in c:\\users\\lab 2\\anaconda3\\lib\\site-packages (from tensorboard~=2.6->tensorflow) (0.6.1)\n",
      "Note: you may need to restart the kernel to use updated packages.\n",
      "Requirement already satisfied: requests<3,>=2.21.0 in c:\\users\\lab 2\\anaconda3\\lib\\site-packages (from tensorboard~=2.6->tensorflow) (2.26.0)\n",
      "Requirement already satisfied: google-auth<3,>=1.6.3 in c:\\users\\lab 2\\anaconda3\\lib\\site-packages (from tensorboard~=2.6->tensorflow) (2.3.3)\n",
      "Requirement already satisfied: pyasn1-modules>=0.2.1 in c:\\users\\lab 2\\anaconda3\\lib\\site-packages (from google-auth<3,>=1.6.3->tensorboard~=2.6->tensorflow) (0.2.8)\n",
      "Requirement already satisfied: rsa<5,>=3.1.4 in c:\\users\\lab 2\\anaconda3\\lib\\site-packages (from google-auth<3,>=1.6.3->tensorboard~=2.6->tensorflow) (4.8)\n",
      "Requirement already satisfied: cachetools<5.0,>=2.0.0 in c:\\users\\lab 2\\anaconda3\\lib\\site-packages (from google-auth<3,>=1.6.3->tensorboard~=2.6->tensorflow) (4.2.4)\n",
      "Requirement already satisfied: requests-oauthlib>=0.7.0 in c:\\users\\lab 2\\anaconda3\\lib\\site-packages (from google-auth-oauthlib<0.5,>=0.4.1->tensorboard~=2.6->tensorflow) (1.3.0)\n",
      "Requirement already satisfied: importlib-metadata>=4.4 in c:\\users\\lab 2\\anaconda3\\lib\\site-packages (from markdown>=2.6.8->tensorboard~=2.6->tensorflow) (4.8.1)\n",
      "Requirement already satisfied: zipp>=0.5 in c:\\users\\lab 2\\anaconda3\\lib\\site-packages (from importlib-metadata>=4.4->markdown>=2.6.8->tensorboard~=2.6->tensorflow) (3.6.0)\n",
      "Requirement already satisfied: pyasn1<0.5.0,>=0.4.6 in c:\\users\\lab 2\\anaconda3\\lib\\site-packages (from pyasn1-modules>=0.2.1->google-auth<3,>=1.6.3->tensorboard~=2.6->tensorflow) (0.4.8)\n",
      "Requirement already satisfied: idna<4,>=2.5 in c:\\users\\lab 2\\anaconda3\\lib\\site-packages (from requests<3,>=2.21.0->tensorboard~=2.6->tensorflow) (3.2)\n",
      "Requirement already satisfied: urllib3<1.27,>=1.21.1 in c:\\users\\lab 2\\anaconda3\\lib\\site-packages (from requests<3,>=2.21.0->tensorboard~=2.6->tensorflow) (1.26.7)\n",
      "Requirement already satisfied: certifi>=2017.4.17 in c:\\users\\lab 2\\anaconda3\\lib\\site-packages (from requests<3,>=2.21.0->tensorboard~=2.6->tensorflow) (2021.10.8)\n",
      "Requirement already satisfied: charset-normalizer~=2.0.0 in c:\\users\\lab 2\\anaconda3\\lib\\site-packages (from requests<3,>=2.21.0->tensorboard~=2.6->tensorflow) (2.0.4)\n",
      "Requirement already satisfied: oauthlib>=3.0.0 in c:\\users\\lab 2\\anaconda3\\lib\\site-packages (from requests-oauthlib>=0.7.0->google-auth-oauthlib<0.5,>=0.4.1->tensorboard~=2.6->tensorflow) (3.1.1)\n"
     ]
    }
   ],
   "source": [
    "pip install tensorflow"
   ]
  },
  {
   "cell_type": "code",
   "execution_count": 3,
   "metadata": {},
   "outputs": [],
   "source": [
    "from tensorflow.python import tf2\n",
    "from keras import distribute"
   ]
  },
  {
   "cell_type": "code",
   "execution_count": 4,
   "metadata": {},
   "outputs": [],
   "source": [
    "import keras"
   ]
  },
  {
   "cell_type": "code",
   "execution_count": 5,
   "metadata": {},
   "outputs": [],
   "source": [
    "import numpy as np\n",
    "import matplotlib\n",
    "import matplotlib.pyplot as plt\n",
    "%matplotlib inline"
   ]
  },
  {
   "cell_type": "code",
   "execution_count": 6,
   "metadata": {},
   "outputs": [
    {
     "name": "stdout",
     "output_type": "stream",
     "text": [
      "Requirement already satisfied: librosa in c:\\users\\lab 2\\anaconda3\\lib\\site-packages (0.8.1)\n",
      "Requirement already satisfied: scikit-learn!=0.19.0,>=0.14.0 in c:\\users\\lab 2\\anaconda3\\lib\\site-packages (from librosa) (0.24.2)\n",
      "Requirement already satisfied: audioread>=2.0.0 in c:\\users\\lab 2\\anaconda3\\lib\\site-packages (from librosa) (2.1.9)\n",
      "Requirement already satisfied: resampy>=0.2.2 in c:\\users\\lab 2\\anaconda3\\lib\\site-packages (from librosa) (0.2.2)\n",
      "Requirement already satisfied: numpy>=1.15.0 in c:\\users\\lab 2\\anaconda3\\lib\\site-packages (from librosa) (1.20.3)\n",
      "Requirement already satisfied: pooch>=1.0 in c:\\users\\lab 2\\anaconda3\\lib\\site-packages (from librosa) (1.5.2)\n",
      "Requirement already satisfied: soundfile>=0.10.2 in c:\\users\\lab 2\\anaconda3\\lib\\site-packages (from librosa) (0.10.3.post1)\n",
      "Requirement already satisfied: scipy>=1.0.0 in c:\\users\\lab 2\\anaconda3\\lib\\site-packages (from librosa) (1.7.1)\n",
      "Requirement already satisfied: decorator>=3.0.0 in c:\\users\\lab 2\\anaconda3\\lib\\site-packages (from librosa) (5.1.0)\n",
      "Requirement already satisfied: numba>=0.43.0 in c:\\users\\lab 2\\anaconda3\\lib\\site-packages (from librosa) (0.54.1)\n",
      "Requirement already satisfied: joblib>=0.14 in c:\\users\\lab 2\\anaconda3\\lib\\site-packages (from librosa) (1.1.0)\n",
      "Requirement already satisfied: packaging>=20.0 in c:\\users\\lab 2\\anaconda3\\lib\\site-packages (from librosa) (21.0)\n",
      "Requirement already satisfied: llvmlite<0.38,>=0.37.0rc1 in c:\\users\\lab 2\\anaconda3\\lib\\site-packages (from numba>=0.43.0->librosa) (0.37.0)\n",
      "Requirement already satisfied: setuptools in c:\\users\\lab 2\\anaconda3\\lib\\site-packages (from numba>=0.43.0->librosa) (58.0.4)\n",
      "Requirement already satisfied: pyparsing>=2.0.2 in c:\\users\\lab 2\\anaconda3\\lib\\site-packages (from packaging>=20.0->librosa) (3.0.4)\n",
      "Requirement already satisfied: requests in c:\\users\\lab 2\\anaconda3\\lib\\site-packages (from pooch>=1.0->librosa) (2.26.0)\n",
      "Requirement already satisfied: appdirs in c:\\users\\lab 2\\anaconda3\\lib\\site-packages (from pooch>=1.0->librosa) (1.4.4)\n",
      "Requirement already satisfied: six>=1.3 in c:\\users\\lab 2\\anaconda3\\lib\\site-packages (from resampy>=0.2.2->librosa) (1.16.0)\n",
      "Requirement already satisfied: threadpoolctl>=2.0.0 in c:\\users\\lab 2\\anaconda3\\lib\\site-packages (from scikit-learn!=0.19.0,>=0.14.0->librosa) (2.2.0)\n",
      "Requirement already satisfied: cffi>=1.0 in c:\\users\\lab 2\\anaconda3\\lib\\site-packages (from soundfile>=0.10.2->librosa) (1.14.6)\n",
      "Requirement already satisfied: pycparser in c:\\users\\lab 2\\anaconda3\\lib\\site-packages (from cffi>=1.0->soundfile>=0.10.2->librosa) (2.20)\n",
      "Requirement already satisfied: charset-normalizer~=2.0.0 in c:\\users\\lab 2\\anaconda3\\lib\\site-packages (from requests->pooch>=1.0->librosa) (2.0.4)\n",
      "Requirement already satisfied: certifi>=2017.4.17 in c:\\users\\lab 2\\anaconda3\\lib\\site-packages (from requests->pooch>=1.0->librosa) (2021.10.8)\n",
      "Requirement already satisfied: urllib3<1.27,>=1.21.1 in c:\\users\\lab 2\\anaconda3\\lib\\site-packages (from requests->pooch>=1.0->librosa) (1.26.7)\n",
      "Requirement already satisfied: idna<4,>=2.5 in c:\\users\\lab 2\\anaconda3\\lib\\site-packages (from requests->pooch>=1.0->librosa) (3.2)\n",
      "Note: you may need to restart the kernel to use updated packages.\n"
     ]
    }
   ],
   "source": [
    "pip install librosa"
   ]
  },
  {
   "cell_type": "markdown",
   "metadata": {},
   "source": [
    "## Audio Feature Extraction with Librosa\n",
    "\n",
    "The key to audio classification is to extract the correct features. In addition to `keras`, we will need the `librosa` package.  The `librosa` package in python has a rich set of methods extracting the features of audio samples commonly used in machine learning tasks such as speech recognition and sound classification. \n",
    "\n",
    "Installation instructions and complete documentation for the package are given on the [librosa main page](https://librosa.github.io/librosa/).  On most systems, you should be able to simply use:\n",
    "\n",
    "    pip install -u librosa\n",
    "    \n",
    "For Unix, you may need to load some additional packages:\n",
    "\n",
    "    sudo apt-get install build-essential\n",
    "    sudo apt-get install libxext-dev python-qt4 qt4-dev-tools\n",
    "    pip install librosa\n",
    "    \n",
    "After you have installed the package, try to import it."
   ]
  },
  {
   "cell_type": "code",
   "execution_count": 7,
   "metadata": {},
   "outputs": [],
   "source": [
    "import librosa\n",
    "import librosa.display\n",
    "import librosa.feature"
   ]
  },
  {
   "cell_type": "markdown",
   "metadata": {},
   "source": [
    "In this lab, we will use a set of music samples from the website:\n",
    "\n",
    "http://theremin.music.uiowa.edu\n",
    "\n",
    "This website has a great set of samples for audio processing.  Look on the web for how to use the `requests.get` and `file.write` commands to load the file at the URL provided into your working directory.\n",
    "\n",
    "You can play the audio sample by copying the file to your local machine and playing it on any media player.  If you listen to it you will hear a soprano saxaphone (with vibrato) playing four notes (C, C#, D, Eb)."
   ]
  },
  {
   "cell_type": "code",
   "execution_count": 8,
   "metadata": {},
   "outputs": [
    {
     "data": {
      "text/plain": [
       "1418242"
      ]
     },
     "execution_count": 8,
     "metadata": {},
     "output_type": "execute_result"
    }
   ],
   "source": [
    "import requests\n",
    "fn = \"SopSax.Vib.pp.C6Eb6.aiff\"\n",
    "url = \"http://theremin.music.uiowa.edu/sound files/MIS/Woodwinds/sopranosaxophone/\"+fn\n",
    "r= requests.get(url)\n",
    "open(fn,'wb').write(r.content)\n",
    "# TODO:  Load the file from url and save it in a file under the name fn"
   ]
  },
  {
   "cell_type": "markdown",
   "metadata": {},
   "source": [
    "Next, use `librosa` command `librosa.load` to read the audio file with filename `fn` and get the samples `y` and sample rate `sr`."
   ]
  },
  {
   "cell_type": "code",
   "execution_count": 9,
   "metadata": {},
   "outputs": [],
   "source": [
    "# TODO\n",
    "# y, sr = ...\n",
    "y, sr = librosa.load(fn)\n"
   ]
  },
  {
   "cell_type": "markdown",
   "metadata": {},
   "source": [
    "Extracting features from audio files is an entire subject on its own right.  A commonly used set of features are called the Mel Frequency Cepstral Coefficients (MFCCs).  These are derived from the so-called mel spectrogram which is something like a regular spectrogram, but the power and frequency are represented in log scale, which more naturally aligns with human perceptual processing.  You can run the code below to display the mel spectrogram from the audio sample.\n",
    "\n",
    "You can easily see the four notes played in the audio track.  You also see the 'harmonics' of each notes, which are other tones at integer multiples of the fundamental frequency of each note."
   ]
  },
  {
   "cell_type": "code",
   "execution_count": 10,
   "metadata": {},
   "outputs": [
    {
     "data": {
      "image/png": "[encoded data removed]",
      "text/plain": [
       "<Figure size 432x288 with 2 Axes>"
      ]
     },
     "metadata": {
      "needs_background": "light"
     },
     "output_type": "display_data"
    }
   ],
   "source": [
    "S = librosa.feature.melspectrogram(y=y, sr=sr, n_mels=128, fmax=8000)\n",
    "librosa.display.specshow(librosa.amplitude_to_db(S,ref=np.max),\n",
    "                         y_axis='mel', fmax=8000, x_axis='time')\n",
    "plt.colorbar(format='%+2.0f dB')\n",
    "plt.title('Mel spectrogram')\n",
    "plt.tight_layout()"
   ]
  },
  {
   "cell_type": "markdown",
   "metadata": {},
   "source": [
    "## Downloading the Data\n",
    "\n",
    "Using the MFCC features described above, Eric Humphrey and Juan Bellow have created a complete data set that can used for instrument classification.  Essentially, they collected a number of data files from the website above.  For each audio file, the segmented the track into notes and then extracted 120 MFCCs for each note.  The goal is to recognize the instrument from the 120 MFCCs.  The process of feature extraction is quite involved.  So, we will just use their processed data provided at:\n",
    "\n",
    "https://github.com/marl/dl4mir-tutorial/blob/master/README.md\n",
    "\n",
    "Note the password.  Load the four files into some directory, say  `instrument_dataset`.  Then, load them with the commands."
   ]
  },
  {
   "cell_type": "code",
   "execution_count": 11,
   "metadata": {},
   "outputs": [],
   "source": [
    "#data_dir = 'instrument_dataset/'\n",
    "Xtr = np.load('uiowa_train_data.npy')\n",
    "ytr = np.load('uiowa_train_labels.npy')\n",
    "Xts = np.load('uiowa_test_data.npy')\n",
    "yts = np.load('uiowa_test_labels.npy')"
   ]
  },
  {
   "cell_type": "markdown",
   "metadata": {},
   "source": [
    "Looking at the data files:\n",
    "* What are the number of training and test samples?\n",
    "* What is the number of features for each sample?\n",
    "* How many classes (i.e. instruments) are there per class.\n"
   ]
  },
  {
   "cell_type": "code",
   "execution_count": 12,
   "metadata": {},
   "outputs": [
    {
     "data": {
      "text/plain": [
       "(66247, 120)"
      ]
     },
     "execution_count": 12,
     "metadata": {},
     "output_type": "execute_result"
    }
   ],
   "source": [
    "# TODO\n",
    "Xtr.shape\n"
   ]
  },
  {
   "cell_type": "code",
   "execution_count": 13,
   "metadata": {},
   "outputs": [
    {
     "data": {
      "text/plain": [
       "(66247,)"
      ]
     },
     "execution_count": 13,
     "metadata": {},
     "output_type": "execute_result"
    }
   ],
   "source": [
    "ytr.shape"
   ]
  },
  {
   "cell_type": "code",
   "execution_count": 14,
   "metadata": {},
   "outputs": [
    {
     "data": {
      "text/plain": [
       "(14904, 120)"
      ]
     },
     "execution_count": 14,
     "metadata": {},
     "output_type": "execute_result"
    }
   ],
   "source": [
    "Xts.shape"
   ]
  },
  {
   "cell_type": "code",
   "execution_count": 15,
   "metadata": {},
   "outputs": [
    {
     "data": {
      "text/plain": [
       "(14904,)"
      ]
     },
     "execution_count": 15,
     "metadata": {},
     "output_type": "execute_result"
    }
   ],
   "source": [
    "yts.shape"
   ]
  },
  {
   "cell_type": "code",
   "execution_count": 16,
   "metadata": {},
   "outputs": [
    {
     "name": "stdout",
     "output_type": "stream",
     "text": [
      "Number of training samples: 66247\n",
      "Number of test samples: 14904\n",
      "Number of Features: 120\n",
      "Number of classes in each class: 10\n"
     ]
    }
   ],
   "source": [
    "print('Number of training samples:',Xtr.shape[0])\n",
    "print('Number of test samples:',Xts.shape[0])\n",
    "print('Number of Features:',Xtr.shape[1])\n",
    "print('Number of classes in each class:',np.unique(ytr).size)"
   ]
  },
  {
   "cell_type": "markdown",
   "metadata": {},
   "source": [
    "Before continuing, you must scale the training and test data, `Xtr` and `Xts`.  Compute the mean and std deviation of each feature in `Xtr` and create a new training data set, `Xtr_scale`, by subtracting the mean and dividing by the std deviation.  Also compute a scaled test data set, `Xts_scale` using the mean and std deviation learned from the training data set."
   ]
  },
  {
   "cell_type": "code",
   "execution_count": 17,
   "metadata": {},
   "outputs": [
    {
     "name": "stdout",
     "output_type": "stream",
     "text": [
      "[[-0.31827517 -0.32885595 -0.29351324 ... -0.36022673 -0.25311227\n",
      "  -0.41772567]\n",
      " [-0.31018965 -0.2727317  -0.2771818  ... -0.17807889  0.22098027\n",
      "  -0.04118938]\n",
      " [-0.27996699 -0.30067912 -0.26579675 ... -0.22750957  0.43279931\n",
      "  -0.00953712]\n",
      " ...\n",
      " [-0.70541453 -0.70723946 -0.70942862 ...  3.33693492  4.20324336\n",
      "   3.70233809]\n",
      " [-0.71897237 -0.71054126 -0.71014551 ...  3.61543866  6.39878693\n",
      "   3.31839917]\n",
      " [-0.72390302 -0.7118741  -0.70965863 ...  1.07922697  1.84041084\n",
      "   1.42883157]]\n",
      "[[-0.21750643 -0.21681385 -0.22310685 ... -0.68837059 -0.80603516\n",
      "  -0.72767992]\n",
      " [-0.23309243 -0.23444571 -0.23947694 ... -0.73434555 -0.71418557\n",
      "  -0.791695  ]\n",
      " [-0.16197075 -0.20414146 -0.22111234 ... -0.66818614 -0.80244538\n",
      "  -0.68702929]\n",
      " ...\n",
      " [-0.66945232 -0.66272087 -0.66150228 ... -0.74286231 -0.74274835\n",
      "  -0.81456784]\n",
      " [-0.66689074 -0.66199011 -0.66236822 ... -0.59806106 -0.64959124\n",
      "  -0.54035891]\n",
      " [-0.66550011 -0.66405765 -0.66227782 ... -0.55623913 -0.55268092\n",
      "  -0.63606318]]\n"
     ]
    }
   ],
   "source": [
    "# TODO Scale the training and test matrices\n",
    "# Xtr_scale = ...\n",
    "# Xts_scale = ...\n",
    "from sklearn import preprocessing\n",
    "# TODO Scale the training and test matrices\n",
    "Xtr_mean = np.mean(Xtr, axis = 0)\n",
    "Xtr_std = np.std(Xtr, axis = 0)\n",
    "\n",
    "Xtr_scale = (Xtr - Xtr_mean)/Xtr_std\n",
    "print(Xtr_scale)\n",
    "\n",
    "Xts_scale= (Xts - Xtr_mean)/Xtr_std\n",
    "print(Xts_scale)"
   ]
  },
  {
   "cell_type": "markdown",
   "metadata": {
    "collapsed": true
   },
   "source": [
    "## Building a Neural Network Classifier\n",
    "\n",
    "Following the example in [MNIST neural network demo](./mnist_neural.ipynb), clear the keras session.  Then, create a neural network `model` with:\n",
    "* `nh=256` hidden units\n",
    "* `sigmoid` activation\n",
    "* select the input and output shapes correctly\n",
    "* print the model summary"
   ]
  },
  {
   "cell_type": "code",
   "execution_count": 18,
   "metadata": {},
   "outputs": [],
   "source": [
    "from keras.models import Model, Sequential\n",
    "from keras.layers import Dense, Activation"
   ]
  },
  {
   "cell_type": "code",
   "execution_count": 19,
   "metadata": {},
   "outputs": [],
   "source": [
    "from tensorflow.keras.models import Model, Sequential\n",
    "from tensorflow.keras.layers import Dense, Activation\n",
    "import tensorflow.keras.backend as K"
   ]
  },
  {
   "cell_type": "code",
   "execution_count": 20,
   "metadata": {},
   "outputs": [],
   "source": [
    "# TODO clear session\n",
    "K.clear_session()"
   ]
  },
  {
   "cell_type": "code",
   "execution_count": 21,
   "metadata": {},
   "outputs": [
    {
     "name": "stdout",
     "output_type": "stream",
     "text": [
      "10\n"
     ]
    }
   ],
   "source": [
    "# TODO: construct the model\n",
    "ninput = Xtr_scale.shape[1]  # dimension of input data\n",
    "nh = 256     # number of hidden units\n",
    "nout = int(np.max(ytr)+1)\n",
    "print(nout)\n",
    "model = Sequential()\n",
    "model.add(Dense(units=nh, input_shape=(ninput,), activation='sigmoid', name='hidden'))\n",
    "model.add(Dense(units=nout, activation='softmax', name='output'))"
   ]
  },
  {
   "cell_type": "code",
   "execution_count": 22,
   "metadata": {},
   "outputs": [
    {
     "name": "stdout",
     "output_type": "stream",
     "text": [
      "Model: \"sequential\"\n",
      "_________________________________________________________________\n",
      " Layer (type)                Output Shape              Param #   \n",
      "=================================================================\n",
      " hidden (Dense)              (None, 256)               30976     \n",
      "                                                                 \n",
      " output (Dense)              (None, 10)                2570      \n",
      "                                                                 \n",
      "=================================================================\n",
      "Total params: 33,546\n",
      "Trainable params: 33,546\n",
      "Non-trainable params: 0\n",
      "_________________________________________________________________\n"
     ]
    }
   ],
   "source": [
    "# TODO:  Print the model summary\n",
    "model.summary()"
   ]
  },
  {
   "cell_type": "markdown",
   "metadata": {},
   "source": [
    "To keep track of the loss history and validation accuracy, we will use a *callback* function as described in [Keras callback documentation](https://keras.io/callbacks/).  A callback is a class that is passed to the `fit` method.  Complete the `LoadHistory` callback class below to save the loss and validation accuracy."
   ]
  },
  {
   "cell_type": "code",
   "execution_count": 23,
   "metadata": {},
   "outputs": [],
   "source": [
    "class LossHistory(keras.callbacks.Callback):\n",
    "    def on_train_begin(self, logs={}):\n",
    "        # TODO:  Create two empty lists, self.loss and self.val_acc\n",
    "        self.losses = []\n",
    "        self.val_losses = []\n",
    "        self.val_acc = []\n",
    " \n",
    "    def on_batch_end(self, batch, logs={}):\n",
    "        # TODO:  This is called at the end of each batch.  \n",
    "        # Add the loss in logs.get('loss') to the loss list \n",
    "        self.losses.append(logs.get('loss'))\n",
    "        \n",
    "    def on_epoch_end(self, epoch, logs):\n",
    "        # TODO:  This is called at the end of each epoch.  \n",
    "        # Add the test accuracy in logs.get('val_acc') to the val_acc list\n",
    "        self.val_acc.append(logs.get('val_acc'))\n",
    "\n",
    "# Create an instance of the history callback\n",
    "history_cb = LossHistory()"
   ]
  },
  {
   "cell_type": "markdown",
   "metadata": {},
   "source": [
    "Create an optimizer and compile the model.  Select the appropriate loss function and metrics.  For the optimizer, use the Adam optimizer with a learning rate of 0.001"
   ]
  },
  {
   "cell_type": "code",
   "execution_count": 24,
   "metadata": {
    "scrolled": true
   },
   "outputs": [
    {
     "name": "stderr",
     "output_type": "stream",
     "text": [
      "C:\\Users\\Lab 2\\anaconda3\\lib\\site-packages\\keras\\optimizer_v2\\adam.py:105: UserWarning: The `lr` argument is deprecated, use `learning_rate` instead.\n",
      "  super(Adam, self).__init__(name, **kwargs)\n"
     ]
    }
   ],
   "source": [
    "# TODO\n",
    "# opt = ...\n",
    "# model.compile(...)\n",
    "from tensorflow.keras import optimizers\n",
    "\n",
    "opt = optimizers.Adam(lr=0.001) # beta_1=0.9, beta_2=0.999, epsilon=1e-08, decay=0.0)\n",
    "model.compile(optimizer=opt,loss='sparse_categorical_crossentropy',metrics=['accuracy'])\n"
   ]
  },
  {
   "cell_type": "markdown",
   "metadata": {},
   "source": [
    "Fit the model for 10 epochs using the scaled data for both the training and validation.  Use the `validation_data` option to pass the test data.  Also, pass the callback class create above.  Use a batch size of 100.  Your final accuracy should be >99%."
   ]
  },
  {
   "cell_type": "code",
   "execution_count": 25,
   "metadata": {
    "scrolled": true
   },
   "outputs": [],
   "source": [
    "# TODO\n",
    "batch_size = 100"
   ]
  },
  {
   "cell_type": "markdown",
   "metadata": {},
   "source": [
    "Plot the validation accuracy saved in the `history_cb`. This gives one accuracy value per epoch.  You should see that the validation accuracy saturates at a little higher than 99%.  After that it \"bounces around\" due to the noise in the stochastic gradient descent."
   ]
  },
  {
   "cell_type": "code",
   "execution_count": 26,
   "metadata": {},
   "outputs": [
    {
     "name": "stdout",
     "output_type": "stream",
     "text": [
      "Epoch 1/10\n",
      "663/663 [==============================] - 1s 2ms/step - loss: 0.3674 - accuracy: 0.8989 - val_loss: 0.1868 - val_accuracy: 0.9493\n",
      "Epoch 2/10\n",
      "663/663 [==============================] - 1s 1ms/step - loss: 0.1043 - accuracy: 0.9745 - val_loss: 0.0990 - val_accuracy: 0.9743\n",
      "Epoch 3/10\n",
      "663/663 [==============================] - 1s 1ms/step - loss: 0.0613 - accuracy: 0.9855 - val_loss: 0.0600 - val_accuracy: 0.9856\n",
      "Epoch 4/10\n",
      "663/663 [==============================] - 1s 1ms/step - loss: 0.0430 - accuracy: 0.9896 - val_loss: 0.0503 - val_accuracy: 0.9872\n",
      "Epoch 5/10\n",
      "663/663 [==============================] - 1s 1ms/step - loss: 0.0327 - accuracy: 0.9914 - val_loss: 0.0404 - val_accuracy: 0.9893\n",
      "Epoch 6/10\n",
      "663/663 [==============================] - 1s 1ms/step - loss: 0.0259 - accuracy: 0.9929 - val_loss: 0.0354 - val_accuracy: 0.9887\n",
      "Epoch 7/10\n",
      "663/663 [==============================] - 1s 1ms/step - loss: 0.0213 - accuracy: 0.9944 - val_loss: 0.0304 - val_accuracy: 0.9912\n",
      "Epoch 8/10\n",
      "663/663 [==============================] - 1s 1ms/step - loss: 0.0178 - accuracy: 0.9955 - val_loss: 0.0290 - val_accuracy: 0.9913\n",
      "Epoch 9/10\n",
      "663/663 [==============================] - 1s 1ms/step - loss: 0.0154 - accuracy: 0.9957 - val_loss: 0.0242 - val_accuracy: 0.9930\n",
      "Epoch 10/10\n",
      "663/663 [==============================] - 1s 1ms/step - loss: 0.0137 - accuracy: 0.9962 - val_loss: 0.0227 - val_accuracy: 0.9932\n"
     ]
    }
   ],
   "source": [
    "# TODO\n",
    "hist = model.fit(Xtr_scale, ytr, epochs=10, batch_size=100, validation_data=(Xts_scale,yts))"
   ]
  },
  {
   "cell_type": "markdown",
   "metadata": {},
   "source": [
    "Plot the loss values saved in the `history_cb` class.  Use the `semilogy` plot.  There is one loss value per step.  But, plot the x-axis in epochs.  Note that the epoch in step `i` is `epoch = i*batch_size/ntr` where `batch_size` is the batch_size and `ntr` is the total number of training samples."
   ]
  },
  {
   "cell_type": "code",
   "execution_count": 27,
   "metadata": {},
   "outputs": [
    {
     "data": {
      "text/plain": [
       "Text(0.5, 1.0, 'Validation accuracy for each Epoch')"
      ]
     },
     "execution_count": 27,
     "metadata": {},
     "output_type": "execute_result"
    },
    {
     "data": {
      "image/png": "[encoded data removed]",
      "text/plain": [
       "<Figure size 432x288 with 1 Axes>"
      ]
     },
     "metadata": {
      "needs_background": "light"
     },
     "output_type": "display_data"
    }
   ],
   "source": [
    "# TODO\n",
    "epochs=np.arange(1,11)\n",
    "plt.plot(epochs,hist.history['val_accuracy'])\n",
    "plt.ylabel('Validation accuracy')\n",
    "plt.xlabel('Epochs')\n",
    "plt.title('Validation accuracy for each Epoch')"
   ]
  },
  {
   "cell_type": "code",
   "execution_count": 28,
   "metadata": {},
   "outputs": [
    {
     "name": "stdout",
     "output_type": "stream",
     "text": [
      "[0.36744434 0.10430938 0.06128607 0.04301209 0.03267382 0.02594216\n",
      " 0.02127106 0.01780192 0.01540584 0.01372604]\n"
     ]
    },
    {
     "data": {
      "text/plain": [
       "Text(0.5, 0, 'Loss')"
      ]
     },
     "execution_count": 28,
     "metadata": {},
     "output_type": "execute_result"
    },
    {
     "data": {
      "image/png": "[encoded data removed]",
      "text/plain": [
       "<Figure size 432x288 with 1 Axes>"
      ]
     },
     "metadata": {
      "needs_background": "light"
     },
     "output_type": "display_data"
    }
   ],
   "source": [
    "histo=np.array(hist.history['loss'])\n",
    "print(histo)\n",
    "plt.semilogy(histo,'c')\n",
    "plt.xlabel('Loss')"
   ]
  },
  {
   "cell_type": "markdown",
   "metadata": {},
   "source": [
    "## Optimizing the Learning Rate\n",
    "\n",
    "One challenge in training neural networks is the selection of the learning rate.  Rerun the above code, trying three learning rates as shown in the vector `rates`.  For each learning rate:\n",
    "* clear the session\n",
    "* construct the network\n",
    "* select the optimizer.  Use the Adam optimizer with the appropriate learrning rate.\n",
    "* train the model\n",
    "* save the accuracy and losses"
   ]
  },
  {
   "cell_type": "code",
   "execution_count": 29,
   "metadata": {},
   "outputs": [],
   "source": [
    "rates = [0.01,0.001,0.0001]\n",
    "batch_size = 100\n",
    "loss_hist = []\n",
    "val_acc_hist = []\n",
    "\n",
    "# TODO"
   ]
  },
  {
   "cell_type": "code",
   "execution_count": 30,
   "metadata": {},
   "outputs": [
    {
     "name": "stdout",
     "output_type": "stream",
     "text": [
      "10\n",
      "Epoch 1/20\n",
      "663/663 [==============================] - 1s 2ms/step - loss: 0.1012 - accuracy: 0.9691 - val_loss: 0.0525 - val_accuracy: 0.9816\n",
      "Epoch 2/20\n",
      "663/663 [==============================] - 1s 1ms/step - loss: 0.0291 - accuracy: 0.9907 - val_loss: 0.0823 - val_accuracy: 0.9704\n",
      "Epoch 3/20\n",
      "663/663 [==============================] - 1s 1ms/step - loss: 0.0202 - accuracy: 0.9934 - val_loss: 0.0344 - val_accuracy: 0.9862\n",
      "Epoch 4/20\n",
      "663/663 [==============================] - 1s 1ms/step - loss: 0.0197 - accuracy: 0.9938 - val_loss: 0.0525 - val_accuracy: 0.9811\n",
      "Epoch 5/20\n",
      "663/663 [==============================] - 1s 1ms/step - loss: 0.0151 - accuracy: 0.9947 - val_loss: 0.0363 - val_accuracy: 0.9880s: 0.0150 - accura\n",
      "Epoch 6/20\n",
      "663/663 [==============================] - 1s 1ms/step - loss: 0.0151 - accuracy: 0.9952 - val_loss: 0.0290 - val_accuracy: 0.9902\n",
      "Epoch 7/20\n",
      "663/663 [==============================] - 1s 1ms/step - loss: 0.0152 - accuracy: 0.9951 - val_loss: 0.0580 - val_accuracy: 0.9819\n",
      "Epoch 8/20\n",
      "663/663 [==============================] - 1s 1ms/step - loss: 0.0110 - accuracy: 0.9963 - val_loss: 0.0897 - val_accuracy: 0.9777\n",
      "Epoch 9/20\n",
      "663/663 [==============================] - 1s 1ms/step - loss: 0.0143 - accuracy: 0.9955 - val_loss: 0.0548 - val_accuracy: 0.9834\n",
      "Epoch 10/20\n",
      "663/663 [==============================] - 1s 1ms/step - loss: 0.0123 - accuracy: 0.9962 - val_loss: 0.0464 - val_accuracy: 0.9877\n",
      "Epoch 11/20\n",
      "663/663 [==============================] - 1s 1ms/step - loss: 0.0114 - accuracy: 0.9965 - val_loss: 0.0404 - val_accuracy: 0.9868\n",
      "Epoch 12/20\n",
      "663/663 [==============================] - 1s 1ms/step - loss: 0.0099 - accuracy: 0.9967 - val_loss: 0.0387 - val_accuracy: 0.9897\n",
      "Epoch 13/20\n",
      "663/663 [==============================] - 1s 1ms/step - loss: 0.0098 - accuracy: 0.9971 - val_loss: 0.0374 - val_accuracy: 0.9891\n",
      "Epoch 14/20\n",
      "663/663 [==============================] - 1s 1ms/step - loss: 0.0062 - accuracy: 0.9981 - val_loss: 0.0896 - val_accuracy: 0.9832oss: 0.0059 - accuracy: \n",
      "Epoch 15/20\n",
      "663/663 [==============================] - 1s 1ms/step - loss: 0.0113 - accuracy: 0.9967 - val_loss: 0.0821 - val_accuracy: 0.9798\n",
      "Epoch 16/20\n",
      "663/663 [==============================] - 1s 1ms/step - loss: 0.0124 - accuracy: 0.9963 - val_loss: 0.0581 - val_accuracy: 0.9858\n",
      "Epoch 17/20\n",
      "663/663 [==============================] - 1s 1ms/step - loss: 0.0089 - accuracy: 0.9974 - val_loss: 0.0575 - val_accuracy: 0.9850\n",
      "Epoch 18/20\n",
      "663/663 [==============================] - 1s 1ms/step - loss: 0.0082 - accuracy: 0.9978 - val_loss: 0.0478 - val_accuracy: 0.9885\n",
      "Epoch 19/20\n",
      "663/663 [==============================] - 1s 1ms/step - loss: 0.0074 - accuracy: 0.9979 - val_loss: 0.0492 - val_accuracy: 0.9903\n",
      "Epoch 20/20\n",
      "663/663 [==============================] - 1s 1ms/step - loss: 0.0087 - accuracy: 0.9976 - val_loss: 0.0483 - val_accuracy: 0.9893\n",
      "10\n",
      "Epoch 1/20\n",
      "663/663 [==============================] - 1s 1ms/step - loss: 0.3666 - accuracy: 0.8983 - val_loss: 0.1842 - val_accuracy: 0.9518\n",
      "Epoch 2/20\n",
      "663/663 [==============================] - 1s 1ms/step - loss: 0.1021 - accuracy: 0.9757 - val_loss: 0.0905 - val_accuracy: 0.9779\n",
      "Epoch 3/20\n",
      "663/663 [==============================] - 1s 1ms/step - loss: 0.0600 - accuracy: 0.9855 - val_loss: 0.0696 - val_accuracy: 0.9828\n",
      "Epoch 4/20\n",
      "663/663 [==============================] - 1s 1ms/step - loss: 0.0425 - accuracy: 0.9893 - val_loss: 0.0510 - val_accuracy: 0.9860\n",
      "Epoch 5/20\n",
      "663/663 [==============================] - 1s 1ms/step - loss: 0.0324 - accuracy: 0.9915 - val_loss: 0.0414 - val_accuracy: 0.9895\n",
      "Epoch 6/20\n",
      "663/663 [==============================] - 1s 1ms/step - loss: 0.0254 - accuracy: 0.9936 - val_loss: 0.0380 - val_accuracy: 0.9885\n",
      "Epoch 7/20\n",
      "663/663 [==============================] - 1s 1ms/step - loss: 0.0206 - accuracy: 0.9946 - val_loss: 0.0304 - val_accuracy: 0.9901\n",
      "Epoch 8/20\n",
      "663/663 [==============================] - 1s 1ms/step - loss: 0.0178 - accuracy: 0.9952 - val_loss: 0.0268 - val_accuracy: 0.9914\n",
      "Epoch 9/20\n",
      "663/663 [==============================] - 1s 1ms/step - loss: 0.0150 - accuracy: 0.9959 - val_loss: 0.0248 - val_accuracy: 0.9924\n",
      "Epoch 10/20\n",
      "663/663 [==============================] - 1s 1ms/step - loss: 0.0129 - accuracy: 0.9966 - val_loss: 0.0248 - val_accuracy: 0.9928\n",
      "Epoch 11/20\n",
      "663/663 [==============================] - 1s 1ms/step - loss: 0.0115 - accuracy: 0.9971 - val_loss: 0.0195 - val_accuracy: 0.9938\n",
      "Epoch 12/20\n",
      "663/663 [==============================] - 1s 1ms/step - loss: 0.0103 - accuracy: 0.9973 - val_loss: 0.0210 - val_accuracy: 0.9931\n",
      "Epoch 13/20\n",
      "663/663 [==============================] - 1s 1ms/step - loss: 0.0092 - accuracy: 0.9978 - val_loss: 0.0197 - val_accuracy: 0.9938\n",
      "Epoch 14/20\n",
      "663/663 [==============================] - 1s 1ms/step - loss: 0.0083 - accuracy: 0.9979 - val_loss: 0.0236 - val_accuracy: 0.9917\n",
      "Epoch 15/20\n",
      "663/663 [==============================] - 1s 1ms/step - loss: 0.0077 - accuracy: 0.9979 - val_loss: 0.0238 - val_accuracy: 0.9910\n",
      "Epoch 16/20\n",
      "663/663 [==============================] - 1s 1ms/step - loss: 0.0070 - accuracy: 0.9981 - val_loss: 0.0205 - val_accuracy: 0.9926\n",
      "Epoch 17/20\n",
      "663/663 [==============================] - 1s 1ms/step - loss: 0.0062 - accuracy: 0.9983 - val_loss: 0.0216 - val_accuracy: 0.9914\n",
      "Epoch 18/20\n",
      "663/663 [==============================] - 1s 1ms/step - loss: 0.0058 - accuracy: 0.9986 - val_loss: 0.0175 - val_accuracy: 0.9934\n",
      "Epoch 19/20\n",
      "663/663 [==============================] - 1s 1ms/step - loss: 0.0056 - accuracy: 0.9986 - val_loss: 0.0212 - val_accuracy: 0.9919\n",
      "Epoch 20/20\n",
      "663/663 [==============================] - 1s 1ms/step - loss: 0.0049 - accuracy: 0.9988 - val_loss: 0.0204 - val_accuracy: 0.9925\n",
      "10\n",
      "Epoch 1/20\n",
      "663/663 [==============================] - 1s 1ms/step - loss: 1.1418 - accuracy: 0.6467 - val_loss: 0.8703 - val_accuracy: 0.6634\n",
      "Epoch 2/20\n",
      "663/663 [==============================] - 1s 1ms/step - loss: 0.5571 - accuracy: 0.8514 - val_loss: 0.5741 - val_accuracy: 0.8318\n",
      "Epoch 3/20\n",
      "663/663 [==============================] - 1s 1ms/step - loss: 0.3828 - accuracy: 0.9151 - val_loss: 0.4415 - val_accuracy: 0.8727\n",
      "Epoch 4/20\n",
      "663/663 [==============================] - 1s 1ms/step - loss: 0.2946 - accuracy: 0.9347 - val_loss: 0.3475 - val_accuracy: 0.9058\n",
      "Epoch 5/20\n",
      "663/663 [==============================] - 1s 1ms/step - loss: 0.2389 - accuracy: 0.9472 - val_loss: 0.2883 - val_accuracy: 0.9198\n",
      "Epoch 6/20\n",
      "663/663 [==============================] - 1s 1ms/step - loss: 0.1995 - accuracy: 0.9549 - val_loss: 0.2418 - val_accuracy: 0.9330\n",
      "Epoch 7/20\n",
      "663/663 [==============================] - 1s 1ms/step - loss: 0.1694 - accuracy: 0.9610 - val_loss: 0.2088 - val_accuracy: 0.9406\n",
      "Epoch 8/20\n",
      "663/663 [==============================] - 1s 1ms/step - loss: 0.1458 - accuracy: 0.9657 - val_loss: 0.1782 - val_accuracy: 0.9480\n",
      "Epoch 9/20\n",
      "663/663 [==============================] - 1s 1ms/step - loss: 0.1269 - accuracy: 0.9700 - val_loss: 0.1552 - val_accuracy: 0.9556\n",
      "Epoch 10/20\n",
      "663/663 [==============================] - 1s 1ms/step - loss: 0.1117 - accuracy: 0.9734 - val_loss: 0.1395 - val_accuracy: 0.9594\n",
      "Epoch 11/20\n",
      "663/663 [==============================] - 1s 1ms/step - loss: 0.0991 - accuracy: 0.9767 - val_loss: 0.1194 - val_accuracy: 0.9688\n",
      "Epoch 12/20\n",
      "663/663 [==============================] - 1s 1ms/step - loss: 0.0887 - accuracy: 0.9796 - val_loss: 0.1088 - val_accuracy: 0.9710\n",
      "Epoch 13/20\n",
      "663/663 [==============================] - 1s 1ms/step - loss: 0.0802 - accuracy: 0.9812 - val_loss: 0.0954 - val_accuracy: 0.9771\n",
      "Epoch 14/20\n",
      "663/663 [==============================] - 1s 1ms/step - loss: 0.0731 - accuracy: 0.9831 - val_loss: 0.0851 - val_accuracy: 0.9808\n",
      "Epoch 15/20\n",
      "663/663 [==============================] - 1s 1ms/step - loss: 0.0670 - accuracy: 0.9845 - val_loss: 0.0806 - val_accuracy: 0.9804\n",
      "Epoch 16/20\n",
      "663/663 [==============================] - 1s 1ms/step - loss: 0.0618 - accuracy: 0.9853 - val_loss: 0.0767 - val_accuracy: 0.9803\n",
      "Epoch 17/20\n",
      "663/663 [==============================] - 1s 1ms/step - loss: 0.0574 - accuracy: 0.9862 - val_loss: 0.0713 - val_accuracy: 0.9836\n",
      "Epoch 18/20\n",
      "663/663 [==============================] - 1s 1ms/step - loss: 0.0536 - accuracy: 0.9870 - val_loss: 0.0646 - val_accuracy: 0.9847\n",
      "Epoch 19/20\n",
      "663/663 [==============================] - 1s 1ms/step - loss: 0.0502 - accuracy: 0.9878 - val_loss: 0.0639 - val_accuracy: 0.9848\n",
      "Epoch 20/20\n",
      "663/663 [==============================] - 1s 1ms/step - loss: 0.0473 - accuracy: 0.9884 - val_loss: 0.0572 - val_accuracy: 0.9862\n"
     ]
    }
   ],
   "source": [
    "rates = [0.01,0.001,0.0001]\n",
    "batch_size = 100\n",
    "loss_hist = []\n",
    "acc_hist=[]\n",
    "\n",
    "\n",
    "# TODO\n",
    "for lr in rates:\n",
    "    K.clear_session()\n",
    "    ninput = Xtr_scale.shape[1]  # dimension of input data\n",
    "    nh = 256     # number of hidden units\n",
    "    nout = int(np.max(ytr)+1)\n",
    "    print(nout)\n",
    "    model = Sequential()\n",
    "    model.add(Dense(units=nh, input_shape=(ninput,), activation='sigmoid', name='hidden'))\n",
    "    model.add(Dense(units=nout, activation='softmax', name='output'))\n",
    "    opt = optimizers.Adam(lr) # beta_1=0.9, beta_2=0.999, epsilon=1e-08, decay=0.0)\n",
    "    model.compile(optimizer=opt,loss='sparse_categorical_crossentropy',metrics=['accuracy'])\n",
    "    hist = model.fit(Xtr_scale, ytr, epochs=20,batch_size=100, validation_data=(Xts_scale,yts))\n",
    "    loss_hist.append(hist.history['loss'])\n",
    "    acc_hist.append(hist.history['val_accuracy'])"
   ]
  },
  {
   "cell_type": "markdown",
   "metadata": {},
   "source": [
    "Plot the loss funciton vs. the epoch number for all three learning rates on one graph.  You should see that the lower learning rates are more stable, but converge slower."
   ]
  },
  {
   "cell_type": "code",
   "execution_count": 31,
   "metadata": {},
   "outputs": [],
   "source": [
    "# TODO"
   ]
  },
  {
   "cell_type": "code",
   "execution_count": 32,
   "metadata": {},
   "outputs": [],
   "source": [
    "loss_hist = np.array(loss_hist)\n"
   ]
  },
  {
   "cell_type": "code",
   "execution_count": 33,
   "metadata": {},
   "outputs": [
    {
     "data": {
      "text/plain": [
       "Text(0.5, 1.0, 'Loss Function for each Epoch')"
      ]
     },
     "execution_count": 33,
     "metadata": {},
     "output_type": "execute_result"
    },
    {
     "data": {
      "image/png": "[encoded data removed]",
      "text/plain": [
       "<Figure size 432x288 with 1 Axes>"
      ]
     },
     "metadata": {
      "needs_background": "light"
     },
     "output_type": "display_data"
    }
   ],
   "source": [
    "epochs=np.arange(1,21)\n",
    "plt.plot( epochs,loss_hist[0, :],label='rate=0.01')\n",
    "plt.plot(epochs,loss_hist[1, :],label='rate=0.001')\n",
    "plt.plot(epochs,loss_hist[2, :],label='rate=0.0001')\n",
    "plt.legend() \n",
    "plt.xlim(0,21)\n",
    "plt.xlabel('epochs')\n",
    "plt.ylabel('loss function')\n",
    "plt.title('Loss Function for each Epoch')"
   ]
  },
  {
   "cell_type": "code",
   "execution_count": null,
   "metadata": {},
   "outputs": [],
   "source": []
  }
 ],
 "metadata": {
  "anaconda-cloud": {},
  "kernelspec": {
   "display_name": "Python 3 (ipykernel)",
   "language": "python",
   "name": "python3"
  },
  "language_info": {
   "codemirror_mode": {
    "name": "ipython",
    "version": 3
   },
   "file_extension": ".py",
   "mimetype": "text/x-python",
   "name": "python",
   "nbconvert_exporter": "python",
   "pygments_lexer": "ipython3",
   "version": "3.9.7"
  },
  "nteract": {
   "version": "0.28.0"
  }
 },
 "nbformat": 4,
 "nbformat_minor": 1
}
